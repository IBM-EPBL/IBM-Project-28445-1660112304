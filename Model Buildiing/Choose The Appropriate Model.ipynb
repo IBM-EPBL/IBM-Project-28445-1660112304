{
 "cells": [
  {
   "cell_type": "markdown",
   "metadata": {
    "id": "EDX_YrPtzOZ_"
   },
   "source": [
    "## Importing Required Libraries"
   ]
  },
  {
   "cell_type": "code",
   "execution_count": 1,
   "metadata": {},
   "outputs": [],
   "source": [
    "import warnings\n",
    "warnings.filterwarnings(\"ignore\")"
   ]
  },
  {
   "cell_type": "code",
   "execution_count": 2,
   "metadata": {
    "executionInfo": {
     "elapsed": 532,
     "status": "ok",
     "timestamp": 1661447298693,
     "user": {
      "displayName": "AVINASH M",
      "userId": "16004639547808340759"
     },
     "user_tz": -330
    },
    "id": "NIHxVLoYzQ3Z"
   },
   "outputs": [],
   "source": [
    "import numpy as np\n",
    "import pandas as pd\n",
    "\n",
    "import matplotlib.pyplot as plt"
   ]
  },
  {
   "cell_type": "code",
   "execution_count": 3,
   "metadata": {
    "executionInfo": {
     "elapsed": 2283,
     "status": "ok",
     "timestamp": 1661447301482,
     "user": {
      "displayName": "AVINASH M",
      "userId": "16004639547808340759"
     },
     "user_tz": -330
    },
    "id": "JJewu432PeXG"
   },
   "outputs": [],
   "source": [
    "from sklearn.model_selection import train_test_split\n",
    "\n",
    "from sklearn.linear_model import (\n",
    "    LogisticRegression,\n",
    "    SGDClassifier,\n",
    ")\n",
    "\n",
    "from sklearn.discriminant_analysis import QuadraticDiscriminantAnalysis\n",
    "\n",
    "from sklearn.svm import SVC\n",
    "\n",
    "from sklearn.tree import DecisionTreeClassifier\n",
    "\n",
    "from sklearn.neighbors import KNeighborsClassifier\n",
    "\n",
    "from sklearn.ensemble import RandomForestClassifier\n",
    "\n",
    "from sklearn.neural_network import MLPClassifier\n",
    "\n",
    "from sklearn.metrics import (\n",
    "    accuracy_score,\n",
    "    precision_score,\n",
    "    recall_score,\n",
    "    f1_score,\n",
    "    log_loss,\n",
    "    roc_auc_score,\n",
    "    confusion_matrix\n",
    ")"
   ]
  },
  {
   "cell_type": "code",
   "execution_count": 4,
   "metadata": {
    "executionInfo": {
     "elapsed": 1709,
     "status": "ok",
     "timestamp": 1661447301504,
     "user": {
      "displayName": "AVINASH M",
      "userId": "16004639547808340759"
     },
     "user_tz": -330
    },
    "id": "l5v1u4cMaUcK"
   },
   "outputs": [],
   "source": [
    "import xgboost as xgb"
   ]
  },
  {
   "cell_type": "code",
   "execution_count": 5,
   "metadata": {},
   "outputs": [],
   "source": [
    "import pickle"
   ]
  },
  {
   "cell_type": "markdown",
   "metadata": {
    "id": "7MV3txbAzo_O"
   },
   "source": [
    "## Reading the Cleaned Dataset"
   ]
  },
  {
   "cell_type": "code",
   "execution_count": 6,
   "metadata": {
    "executionInfo": {
     "elapsed": 1730,
     "status": "ok",
     "timestamp": 1661447301527,
     "user": {
      "displayName": "AVINASH M",
      "userId": "16004639547808340759"
     },
     "user_tz": -330
    },
    "id": "ozkIjBuBzaKN"
   },
   "outputs": [],
   "source": [
    "dataset = pd.read_csv(\"cleaned_dateset.csv\")"
   ]
  },
  {
   "cell_type": "markdown",
   "metadata": {
    "id": "Moi3KN6UdLjq"
   },
   "source": [
    "## Splitting the dataset"
   ]
  },
  {
   "cell_type": "markdown",
   "metadata": {
    "id": "Fm3EO5I6dmFb"
   },
   "source": [
    "### Splitting into features and labels"
   ]
  },
  {
   "cell_type": "code",
   "execution_count": 7,
   "metadata": {
    "executionInfo": {
     "elapsed": 1679,
     "status": "ok",
     "timestamp": 1661447301573,
     "user": {
      "displayName": "AVINASH M",
      "userId": "16004639547808340759"
     },
     "user_tz": -330
    },
    "id": "vmvcVXR2dtf9"
   },
   "outputs": [],
   "source": [
    "features = dataset.iloc[:, :-1]\n",
    "labels = dataset.iloc[:, -1]"
   ]
  },
  {
   "cell_type": "code",
   "execution_count": 8,
   "metadata": {
    "colab": {
     "base_uri": "https://localhost:8080/",
     "height": 300
    },
    "executionInfo": {
     "elapsed": 1678,
     "status": "ok",
     "timestamp": 1661447301573,
     "user": {
      "displayName": "AVINASH M",
      "userId": "16004639547808340759"
     },
     "user_tz": -330
    },
    "id": "kdMhhkH_eELG",
    "outputId": "47695801-94c1-494a-bf37-ebc7b668c4a3"
   },
   "outputs": [
    {
     "data": {
      "text/html": [
       "<div>\n",
       "<style scoped>\n",
       "    .dataframe tbody tr th:only-of-type {\n",
       "        vertical-align: middle;\n",
       "    }\n",
       "\n",
       "    .dataframe tbody tr th {\n",
       "        vertical-align: top;\n",
       "    }\n",
       "\n",
       "    .dataframe thead th {\n",
       "        text-align: right;\n",
       "    }\n",
       "</style>\n",
       "<table border=\"1\" class=\"dataframe\">\n",
       "  <thead>\n",
       "    <tr style=\"text-align: right;\">\n",
       "      <th></th>\n",
       "      <th>Unnamed: 0</th>\n",
       "      <th>having_IP_address</th>\n",
       "      <th>url_Length</th>\n",
       "      <th>shortening_service</th>\n",
       "      <th>having_At_Symbol</th>\n",
       "      <th>double_slash_redirecting</th>\n",
       "      <th>prefix_suffix</th>\n",
       "      <th>having_sub_domain</th>\n",
       "      <th>SSL_final_State</th>\n",
       "      <th>domain_registration_length</th>\n",
       "      <th>...</th>\n",
       "      <th>redirect</th>\n",
       "      <th>on_mouseover</th>\n",
       "      <th>right_click</th>\n",
       "      <th>age_of_domain</th>\n",
       "      <th>DNS_record</th>\n",
       "      <th>web_traffic</th>\n",
       "      <th>page_rank</th>\n",
       "      <th>google_index</th>\n",
       "      <th>links_pointing_to_page</th>\n",
       "      <th>statistical_report</th>\n",
       "    </tr>\n",
       "  </thead>\n",
       "  <tbody>\n",
       "    <tr>\n",
       "      <th>0</th>\n",
       "      <td>0</td>\n",
       "      <td>-1</td>\n",
       "      <td>1</td>\n",
       "      <td>1</td>\n",
       "      <td>1</td>\n",
       "      <td>-1</td>\n",
       "      <td>-1</td>\n",
       "      <td>-1</td>\n",
       "      <td>-1</td>\n",
       "      <td>-1</td>\n",
       "      <td>...</td>\n",
       "      <td>0</td>\n",
       "      <td>1</td>\n",
       "      <td>1</td>\n",
       "      <td>-1</td>\n",
       "      <td>-1</td>\n",
       "      <td>-1</td>\n",
       "      <td>-1</td>\n",
       "      <td>1</td>\n",
       "      <td>1</td>\n",
       "      <td>-1</td>\n",
       "    </tr>\n",
       "    <tr>\n",
       "      <th>1</th>\n",
       "      <td>1</td>\n",
       "      <td>1</td>\n",
       "      <td>1</td>\n",
       "      <td>1</td>\n",
       "      <td>1</td>\n",
       "      <td>1</td>\n",
       "      <td>-1</td>\n",
       "      <td>0</td>\n",
       "      <td>1</td>\n",
       "      <td>-1</td>\n",
       "      <td>...</td>\n",
       "      <td>0</td>\n",
       "      <td>1</td>\n",
       "      <td>1</td>\n",
       "      <td>-1</td>\n",
       "      <td>-1</td>\n",
       "      <td>0</td>\n",
       "      <td>-1</td>\n",
       "      <td>1</td>\n",
       "      <td>1</td>\n",
       "      <td>1</td>\n",
       "    </tr>\n",
       "    <tr>\n",
       "      <th>2</th>\n",
       "      <td>2</td>\n",
       "      <td>1</td>\n",
       "      <td>0</td>\n",
       "      <td>1</td>\n",
       "      <td>1</td>\n",
       "      <td>1</td>\n",
       "      <td>-1</td>\n",
       "      <td>-1</td>\n",
       "      <td>-1</td>\n",
       "      <td>-1</td>\n",
       "      <td>...</td>\n",
       "      <td>0</td>\n",
       "      <td>1</td>\n",
       "      <td>1</td>\n",
       "      <td>1</td>\n",
       "      <td>-1</td>\n",
       "      <td>1</td>\n",
       "      <td>-1</td>\n",
       "      <td>1</td>\n",
       "      <td>0</td>\n",
       "      <td>-1</td>\n",
       "    </tr>\n",
       "    <tr>\n",
       "      <th>3</th>\n",
       "      <td>3</td>\n",
       "      <td>1</td>\n",
       "      <td>0</td>\n",
       "      <td>1</td>\n",
       "      <td>1</td>\n",
       "      <td>1</td>\n",
       "      <td>-1</td>\n",
       "      <td>-1</td>\n",
       "      <td>-1</td>\n",
       "      <td>1</td>\n",
       "      <td>...</td>\n",
       "      <td>0</td>\n",
       "      <td>1</td>\n",
       "      <td>1</td>\n",
       "      <td>-1</td>\n",
       "      <td>-1</td>\n",
       "      <td>1</td>\n",
       "      <td>-1</td>\n",
       "      <td>1</td>\n",
       "      <td>-1</td>\n",
       "      <td>1</td>\n",
       "    </tr>\n",
       "    <tr>\n",
       "      <th>4</th>\n",
       "      <td>4</td>\n",
       "      <td>1</td>\n",
       "      <td>0</td>\n",
       "      <td>-1</td>\n",
       "      <td>1</td>\n",
       "      <td>1</td>\n",
       "      <td>-1</td>\n",
       "      <td>1</td>\n",
       "      <td>1</td>\n",
       "      <td>-1</td>\n",
       "      <td>...</td>\n",
       "      <td>0</td>\n",
       "      <td>-1</td>\n",
       "      <td>1</td>\n",
       "      <td>-1</td>\n",
       "      <td>-1</td>\n",
       "      <td>0</td>\n",
       "      <td>-1</td>\n",
       "      <td>1</td>\n",
       "      <td>1</td>\n",
       "      <td>1</td>\n",
       "    </tr>\n",
       "  </tbody>\n",
       "</table>\n",
       "<p>5 rows × 28 columns</p>\n",
       "</div>"
      ],
      "text/plain": [
       "   Unnamed: 0  having_IP_address  url_Length  shortening_service  \\\n",
       "0           0                 -1           1                   1   \n",
       "1           1                  1           1                   1   \n",
       "2           2                  1           0                   1   \n",
       "3           3                  1           0                   1   \n",
       "4           4                  1           0                  -1   \n",
       "\n",
       "   having_At_Symbol  double_slash_redirecting  prefix_suffix  \\\n",
       "0                 1                        -1             -1   \n",
       "1                 1                         1             -1   \n",
       "2                 1                         1             -1   \n",
       "3                 1                         1             -1   \n",
       "4                 1                         1             -1   \n",
       "\n",
       "   having_sub_domain  SSL_final_State  domain_registration_length  ...  \\\n",
       "0                 -1               -1                          -1  ...   \n",
       "1                  0                1                          -1  ...   \n",
       "2                 -1               -1                          -1  ...   \n",
       "3                 -1               -1                           1  ...   \n",
       "4                  1                1                          -1  ...   \n",
       "\n",
       "   redirect  on_mouseover  right_click  age_of_domain  DNS_record  \\\n",
       "0         0             1            1             -1          -1   \n",
       "1         0             1            1             -1          -1   \n",
       "2         0             1            1              1          -1   \n",
       "3         0             1            1             -1          -1   \n",
       "4         0            -1            1             -1          -1   \n",
       "\n",
       "   web_traffic  page_rank  google_index  links_pointing_to_page  \\\n",
       "0           -1         -1             1                       1   \n",
       "1            0         -1             1                       1   \n",
       "2            1         -1             1                       0   \n",
       "3            1         -1             1                      -1   \n",
       "4            0         -1             1                       1   \n",
       "\n",
       "   statistical_report  \n",
       "0                  -1  \n",
       "1                   1  \n",
       "2                  -1  \n",
       "3                   1  \n",
       "4                   1  \n",
       "\n",
       "[5 rows x 28 columns]"
      ]
     },
     "execution_count": 8,
     "metadata": {},
     "output_type": "execute_result"
    }
   ],
   "source": [
    "features.head()"
   ]
  },
  {
   "cell_type": "code",
   "execution_count": 9,
   "metadata": {
    "colab": {
     "base_uri": "https://localhost:8080/"
    },
    "executionInfo": {
     "elapsed": 1675,
     "status": "ok",
     "timestamp": 1661447301574,
     "user": {
      "displayName": "AVINASH M",
      "userId": "16004639547808340759"
     },
     "user_tz": -330
    },
    "id": "H8l0Rjn9eHvb",
    "outputId": "fa06a7b0-f269-4f7b-9124-ce1b8ea1574d",
    "scrolled": true
   },
   "outputs": [
    {
     "data": {
      "text/plain": [
       "0   -1\n",
       "1   -1\n",
       "2   -1\n",
       "3   -1\n",
       "4    1\n",
       "Name: result, dtype: int64"
      ]
     },
     "execution_count": 9,
     "metadata": {},
     "output_type": "execute_result"
    }
   ],
   "source": [
    "labels.head()"
   ]
  },
  {
   "cell_type": "markdown",
   "metadata": {
    "id": "aygs0aSZeQmP"
   },
   "source": [
    "### Splitting the dataset into train and test data"
   ]
  },
  {
   "cell_type": "code",
   "execution_count": 10,
   "metadata": {
    "executionInfo": {
     "elapsed": 1354,
     "status": "ok",
     "timestamp": 1661447301576,
     "user": {
      "displayName": "AVINASH M",
      "userId": "16004639547808340759"
     },
     "user_tz": -330
    },
    "id": "44k0f6k6eKZn"
   },
   "outputs": [],
   "source": [
    "featuresTraining, featuresTesting, labelsTraining, labelsTesting = train_test_split(features, labels, test_size = 1/3, random_state = 369)"
   ]
  },
  {
   "cell_type": "code",
   "execution_count": 11,
   "metadata": {
    "colab": {
     "base_uri": "https://localhost:8080/",
     "height": 488
    },
    "executionInfo": {
     "elapsed": 1354,
     "status": "ok",
     "timestamp": 1661447301577,
     "user": {
      "displayName": "AVINASH M",
      "userId": "16004639547808340759"
     },
     "user_tz": -330
    },
    "id": "6sII3kJGebz4",
    "outputId": "b1f4b707-42b7-4ba2-9315-b9119e1ea3b8"
   },
   "outputs": [
    {
     "data": {
      "text/html": [
       "<div>\n",
       "<style scoped>\n",
       "    .dataframe tbody tr th:only-of-type {\n",
       "        vertical-align: middle;\n",
       "    }\n",
       "\n",
       "    .dataframe tbody tr th {\n",
       "        vertical-align: top;\n",
       "    }\n",
       "\n",
       "    .dataframe thead th {\n",
       "        text-align: right;\n",
       "    }\n",
       "</style>\n",
       "<table border=\"1\" class=\"dataframe\">\n",
       "  <thead>\n",
       "    <tr style=\"text-align: right;\">\n",
       "      <th></th>\n",
       "      <th>Unnamed: 0</th>\n",
       "      <th>having_IP_address</th>\n",
       "      <th>url_Length</th>\n",
       "      <th>shortening_service</th>\n",
       "      <th>having_At_Symbol</th>\n",
       "      <th>double_slash_redirecting</th>\n",
       "      <th>prefix_suffix</th>\n",
       "      <th>having_sub_domain</th>\n",
       "      <th>SSL_final_State</th>\n",
       "      <th>domain_registration_length</th>\n",
       "      <th>...</th>\n",
       "      <th>redirect</th>\n",
       "      <th>on_mouseover</th>\n",
       "      <th>right_click</th>\n",
       "      <th>age_of_domain</th>\n",
       "      <th>DNS_record</th>\n",
       "      <th>web_traffic</th>\n",
       "      <th>page_rank</th>\n",
       "      <th>google_index</th>\n",
       "      <th>links_pointing_to_page</th>\n",
       "      <th>statistical_report</th>\n",
       "    </tr>\n",
       "  </thead>\n",
       "  <tbody>\n",
       "    <tr>\n",
       "      <th>3172</th>\n",
       "      <td>3172</td>\n",
       "      <td>1</td>\n",
       "      <td>-1</td>\n",
       "      <td>1</td>\n",
       "      <td>1</td>\n",
       "      <td>1</td>\n",
       "      <td>-1</td>\n",
       "      <td>0</td>\n",
       "      <td>1</td>\n",
       "      <td>-1</td>\n",
       "      <td>...</td>\n",
       "      <td>0</td>\n",
       "      <td>1</td>\n",
       "      <td>1</td>\n",
       "      <td>-1</td>\n",
       "      <td>1</td>\n",
       "      <td>1</td>\n",
       "      <td>-1</td>\n",
       "      <td>1</td>\n",
       "      <td>0</td>\n",
       "      <td>1</td>\n",
       "    </tr>\n",
       "    <tr>\n",
       "      <th>10506</th>\n",
       "      <td>10506</td>\n",
       "      <td>-1</td>\n",
       "      <td>-1</td>\n",
       "      <td>1</td>\n",
       "      <td>-1</td>\n",
       "      <td>1</td>\n",
       "      <td>-1</td>\n",
       "      <td>0</td>\n",
       "      <td>-1</td>\n",
       "      <td>1</td>\n",
       "      <td>...</td>\n",
       "      <td>0</td>\n",
       "      <td>-1</td>\n",
       "      <td>1</td>\n",
       "      <td>1</td>\n",
       "      <td>1</td>\n",
       "      <td>0</td>\n",
       "      <td>-1</td>\n",
       "      <td>1</td>\n",
       "      <td>1</td>\n",
       "      <td>1</td>\n",
       "    </tr>\n",
       "    <tr>\n",
       "      <th>3025</th>\n",
       "      <td>3025</td>\n",
       "      <td>1</td>\n",
       "      <td>-1</td>\n",
       "      <td>1</td>\n",
       "      <td>1</td>\n",
       "      <td>1</td>\n",
       "      <td>-1</td>\n",
       "      <td>1</td>\n",
       "      <td>1</td>\n",
       "      <td>-1</td>\n",
       "      <td>...</td>\n",
       "      <td>0</td>\n",
       "      <td>-1</td>\n",
       "      <td>-1</td>\n",
       "      <td>1</td>\n",
       "      <td>-1</td>\n",
       "      <td>1</td>\n",
       "      <td>-1</td>\n",
       "      <td>1</td>\n",
       "      <td>1</td>\n",
       "      <td>-1</td>\n",
       "    </tr>\n",
       "    <tr>\n",
       "      <th>3803</th>\n",
       "      <td>3803</td>\n",
       "      <td>1</td>\n",
       "      <td>-1</td>\n",
       "      <td>1</td>\n",
       "      <td>1</td>\n",
       "      <td>1</td>\n",
       "      <td>-1</td>\n",
       "      <td>-1</td>\n",
       "      <td>-1</td>\n",
       "      <td>1</td>\n",
       "      <td>...</td>\n",
       "      <td>0</td>\n",
       "      <td>1</td>\n",
       "      <td>1</td>\n",
       "      <td>-1</td>\n",
       "      <td>-1</td>\n",
       "      <td>0</td>\n",
       "      <td>-1</td>\n",
       "      <td>-1</td>\n",
       "      <td>0</td>\n",
       "      <td>1</td>\n",
       "    </tr>\n",
       "    <tr>\n",
       "      <th>5718</th>\n",
       "      <td>5718</td>\n",
       "      <td>1</td>\n",
       "      <td>-1</td>\n",
       "      <td>1</td>\n",
       "      <td>-1</td>\n",
       "      <td>1</td>\n",
       "      <td>-1</td>\n",
       "      <td>0</td>\n",
       "      <td>0</td>\n",
       "      <td>1</td>\n",
       "      <td>...</td>\n",
       "      <td>1</td>\n",
       "      <td>-1</td>\n",
       "      <td>1</td>\n",
       "      <td>-1</td>\n",
       "      <td>1</td>\n",
       "      <td>0</td>\n",
       "      <td>1</td>\n",
       "      <td>1</td>\n",
       "      <td>0</td>\n",
       "      <td>1</td>\n",
       "    </tr>\n",
       "    <tr>\n",
       "      <th>...</th>\n",
       "      <td>...</td>\n",
       "      <td>...</td>\n",
       "      <td>...</td>\n",
       "      <td>...</td>\n",
       "      <td>...</td>\n",
       "      <td>...</td>\n",
       "      <td>...</td>\n",
       "      <td>...</td>\n",
       "      <td>...</td>\n",
       "      <td>...</td>\n",
       "      <td>...</td>\n",
       "      <td>...</td>\n",
       "      <td>...</td>\n",
       "      <td>...</td>\n",
       "      <td>...</td>\n",
       "      <td>...</td>\n",
       "      <td>...</td>\n",
       "      <td>...</td>\n",
       "      <td>...</td>\n",
       "      <td>...</td>\n",
       "      <td>...</td>\n",
       "    </tr>\n",
       "    <tr>\n",
       "      <th>7098</th>\n",
       "      <td>7098</td>\n",
       "      <td>1</td>\n",
       "      <td>-1</td>\n",
       "      <td>1</td>\n",
       "      <td>1</td>\n",
       "      <td>1</td>\n",
       "      <td>-1</td>\n",
       "      <td>0</td>\n",
       "      <td>1</td>\n",
       "      <td>-1</td>\n",
       "      <td>...</td>\n",
       "      <td>0</td>\n",
       "      <td>1</td>\n",
       "      <td>1</td>\n",
       "      <td>-1</td>\n",
       "      <td>1</td>\n",
       "      <td>0</td>\n",
       "      <td>1</td>\n",
       "      <td>1</td>\n",
       "      <td>0</td>\n",
       "      <td>1</td>\n",
       "    </tr>\n",
       "    <tr>\n",
       "      <th>4370</th>\n",
       "      <td>4370</td>\n",
       "      <td>1</td>\n",
       "      <td>1</td>\n",
       "      <td>1</td>\n",
       "      <td>-1</td>\n",
       "      <td>1</td>\n",
       "      <td>-1</td>\n",
       "      <td>0</td>\n",
       "      <td>-1</td>\n",
       "      <td>-1</td>\n",
       "      <td>...</td>\n",
       "      <td>0</td>\n",
       "      <td>1</td>\n",
       "      <td>1</td>\n",
       "      <td>-1</td>\n",
       "      <td>-1</td>\n",
       "      <td>-1</td>\n",
       "      <td>-1</td>\n",
       "      <td>-1</td>\n",
       "      <td>1</td>\n",
       "      <td>1</td>\n",
       "    </tr>\n",
       "    <tr>\n",
       "      <th>1389</th>\n",
       "      <td>1389</td>\n",
       "      <td>1</td>\n",
       "      <td>-1</td>\n",
       "      <td>1</td>\n",
       "      <td>1</td>\n",
       "      <td>1</td>\n",
       "      <td>-1</td>\n",
       "      <td>1</td>\n",
       "      <td>1</td>\n",
       "      <td>-1</td>\n",
       "      <td>...</td>\n",
       "      <td>0</td>\n",
       "      <td>1</td>\n",
       "      <td>1</td>\n",
       "      <td>1</td>\n",
       "      <td>1</td>\n",
       "      <td>0</td>\n",
       "      <td>-1</td>\n",
       "      <td>1</td>\n",
       "      <td>-1</td>\n",
       "      <td>1</td>\n",
       "    </tr>\n",
       "    <tr>\n",
       "      <th>270</th>\n",
       "      <td>270</td>\n",
       "      <td>1</td>\n",
       "      <td>-1</td>\n",
       "      <td>1</td>\n",
       "      <td>1</td>\n",
       "      <td>1</td>\n",
       "      <td>-1</td>\n",
       "      <td>0</td>\n",
       "      <td>-1</td>\n",
       "      <td>-1</td>\n",
       "      <td>...</td>\n",
       "      <td>0</td>\n",
       "      <td>1</td>\n",
       "      <td>1</td>\n",
       "      <td>-1</td>\n",
       "      <td>1</td>\n",
       "      <td>1</td>\n",
       "      <td>-1</td>\n",
       "      <td>1</td>\n",
       "      <td>0</td>\n",
       "      <td>1</td>\n",
       "    </tr>\n",
       "    <tr>\n",
       "      <th>7103</th>\n",
       "      <td>7103</td>\n",
       "      <td>-1</td>\n",
       "      <td>-1</td>\n",
       "      <td>-1</td>\n",
       "      <td>1</td>\n",
       "      <td>-1</td>\n",
       "      <td>-1</td>\n",
       "      <td>1</td>\n",
       "      <td>1</td>\n",
       "      <td>1</td>\n",
       "      <td>...</td>\n",
       "      <td>0</td>\n",
       "      <td>1</td>\n",
       "      <td>1</td>\n",
       "      <td>-1</td>\n",
       "      <td>-1</td>\n",
       "      <td>-1</td>\n",
       "      <td>1</td>\n",
       "      <td>-1</td>\n",
       "      <td>0</td>\n",
       "      <td>1</td>\n",
       "    </tr>\n",
       "  </tbody>\n",
       "</table>\n",
       "<p>7370 rows × 28 columns</p>\n",
       "</div>"
      ],
      "text/plain": [
       "       Unnamed: 0  having_IP_address  url_Length  shortening_service  \\\n",
       "3172         3172                  1          -1                   1   \n",
       "10506       10506                 -1          -1                   1   \n",
       "3025         3025                  1          -1                   1   \n",
       "3803         3803                  1          -1                   1   \n",
       "5718         5718                  1          -1                   1   \n",
       "...           ...                ...         ...                 ...   \n",
       "7098         7098                  1          -1                   1   \n",
       "4370         4370                  1           1                   1   \n",
       "1389         1389                  1          -1                   1   \n",
       "270           270                  1          -1                   1   \n",
       "7103         7103                 -1          -1                  -1   \n",
       "\n",
       "       having_At_Symbol  double_slash_redirecting  prefix_suffix  \\\n",
       "3172                  1                         1             -1   \n",
       "10506                -1                         1             -1   \n",
       "3025                  1                         1             -1   \n",
       "3803                  1                         1             -1   \n",
       "5718                 -1                         1             -1   \n",
       "...                 ...                       ...            ...   \n",
       "7098                  1                         1             -1   \n",
       "4370                 -1                         1             -1   \n",
       "1389                  1                         1             -1   \n",
       "270                   1                         1             -1   \n",
       "7103                  1                        -1             -1   \n",
       "\n",
       "       having_sub_domain  SSL_final_State  domain_registration_length  ...  \\\n",
       "3172                   0                1                          -1  ...   \n",
       "10506                  0               -1                           1  ...   \n",
       "3025                   1                1                          -1  ...   \n",
       "3803                  -1               -1                           1  ...   \n",
       "5718                   0                0                           1  ...   \n",
       "...                  ...              ...                         ...  ...   \n",
       "7098                   0                1                          -1  ...   \n",
       "4370                   0               -1                          -1  ...   \n",
       "1389                   1                1                          -1  ...   \n",
       "270                    0               -1                          -1  ...   \n",
       "7103                   1                1                           1  ...   \n",
       "\n",
       "       redirect  on_mouseover  right_click  age_of_domain  DNS_record  \\\n",
       "3172          0             1            1             -1           1   \n",
       "10506         0            -1            1              1           1   \n",
       "3025          0            -1           -1              1          -1   \n",
       "3803          0             1            1             -1          -1   \n",
       "5718          1            -1            1             -1           1   \n",
       "...         ...           ...          ...            ...         ...   \n",
       "7098          0             1            1             -1           1   \n",
       "4370          0             1            1             -1          -1   \n",
       "1389          0             1            1              1           1   \n",
       "270           0             1            1             -1           1   \n",
       "7103          0             1            1             -1          -1   \n",
       "\n",
       "       web_traffic  page_rank  google_index  links_pointing_to_page  \\\n",
       "3172             1         -1             1                       0   \n",
       "10506            0         -1             1                       1   \n",
       "3025             1         -1             1                       1   \n",
       "3803             0         -1            -1                       0   \n",
       "5718             0          1             1                       0   \n",
       "...            ...        ...           ...                     ...   \n",
       "7098             0          1             1                       0   \n",
       "4370            -1         -1            -1                       1   \n",
       "1389             0         -1             1                      -1   \n",
       "270              1         -1             1                       0   \n",
       "7103            -1          1            -1                       0   \n",
       "\n",
       "       statistical_report  \n",
       "3172                    1  \n",
       "10506                   1  \n",
       "3025                   -1  \n",
       "3803                    1  \n",
       "5718                    1  \n",
       "...                   ...  \n",
       "7098                    1  \n",
       "4370                    1  \n",
       "1389                    1  \n",
       "270                     1  \n",
       "7103                    1  \n",
       "\n",
       "[7370 rows x 28 columns]"
      ]
     },
     "execution_count": 11,
     "metadata": {},
     "output_type": "execute_result"
    }
   ],
   "source": [
    "featuresTraining"
   ]
  },
  {
   "cell_type": "code",
   "execution_count": 12,
   "metadata": {
    "colab": {
     "base_uri": "https://localhost:8080/",
     "height": 488
    },
    "executionInfo": {
     "elapsed": 1969,
     "status": "ok",
     "timestamp": 1661447302248,
     "user": {
      "displayName": "AVINASH M",
      "userId": "16004639547808340759"
     },
     "user_tz": -330
    },
    "id": "vKgDeAqbejkc",
    "outputId": "0b552829-8463-46ec-dc99-a02e30e216bf"
   },
   "outputs": [
    {
     "data": {
      "text/html": [
       "<div>\n",
       "<style scoped>\n",
       "    .dataframe tbody tr th:only-of-type {\n",
       "        vertical-align: middle;\n",
       "    }\n",
       "\n",
       "    .dataframe tbody tr th {\n",
       "        vertical-align: top;\n",
       "    }\n",
       "\n",
       "    .dataframe thead th {\n",
       "        text-align: right;\n",
       "    }\n",
       "</style>\n",
       "<table border=\"1\" class=\"dataframe\">\n",
       "  <thead>\n",
       "    <tr style=\"text-align: right;\">\n",
       "      <th></th>\n",
       "      <th>Unnamed: 0</th>\n",
       "      <th>having_IP_address</th>\n",
       "      <th>url_Length</th>\n",
       "      <th>shortening_service</th>\n",
       "      <th>having_At_Symbol</th>\n",
       "      <th>double_slash_redirecting</th>\n",
       "      <th>prefix_suffix</th>\n",
       "      <th>having_sub_domain</th>\n",
       "      <th>SSL_final_State</th>\n",
       "      <th>domain_registration_length</th>\n",
       "      <th>...</th>\n",
       "      <th>redirect</th>\n",
       "      <th>on_mouseover</th>\n",
       "      <th>right_click</th>\n",
       "      <th>age_of_domain</th>\n",
       "      <th>DNS_record</th>\n",
       "      <th>web_traffic</th>\n",
       "      <th>page_rank</th>\n",
       "      <th>google_index</th>\n",
       "      <th>links_pointing_to_page</th>\n",
       "      <th>statistical_report</th>\n",
       "    </tr>\n",
       "  </thead>\n",
       "  <tbody>\n",
       "    <tr>\n",
       "      <th>8307</th>\n",
       "      <td>8307</td>\n",
       "      <td>1</td>\n",
       "      <td>-1</td>\n",
       "      <td>1</td>\n",
       "      <td>1</td>\n",
       "      <td>1</td>\n",
       "      <td>-1</td>\n",
       "      <td>0</td>\n",
       "      <td>1</td>\n",
       "      <td>1</td>\n",
       "      <td>...</td>\n",
       "      <td>0</td>\n",
       "      <td>-1</td>\n",
       "      <td>1</td>\n",
       "      <td>1</td>\n",
       "      <td>1</td>\n",
       "      <td>1</td>\n",
       "      <td>-1</td>\n",
       "      <td>1</td>\n",
       "      <td>0</td>\n",
       "      <td>1</td>\n",
       "    </tr>\n",
       "    <tr>\n",
       "      <th>5196</th>\n",
       "      <td>5196</td>\n",
       "      <td>-1</td>\n",
       "      <td>-1</td>\n",
       "      <td>-1</td>\n",
       "      <td>-1</td>\n",
       "      <td>-1</td>\n",
       "      <td>-1</td>\n",
       "      <td>1</td>\n",
       "      <td>1</td>\n",
       "      <td>-1</td>\n",
       "      <td>...</td>\n",
       "      <td>1</td>\n",
       "      <td>1</td>\n",
       "      <td>1</td>\n",
       "      <td>-1</td>\n",
       "      <td>-1</td>\n",
       "      <td>-1</td>\n",
       "      <td>1</td>\n",
       "      <td>1</td>\n",
       "      <td>0</td>\n",
       "      <td>1</td>\n",
       "    </tr>\n",
       "    <tr>\n",
       "      <th>9876</th>\n",
       "      <td>9876</td>\n",
       "      <td>1</td>\n",
       "      <td>-1</td>\n",
       "      <td>1</td>\n",
       "      <td>1</td>\n",
       "      <td>1</td>\n",
       "      <td>-1</td>\n",
       "      <td>0</td>\n",
       "      <td>-1</td>\n",
       "      <td>-1</td>\n",
       "      <td>...</td>\n",
       "      <td>0</td>\n",
       "      <td>1</td>\n",
       "      <td>1</td>\n",
       "      <td>1</td>\n",
       "      <td>1</td>\n",
       "      <td>0</td>\n",
       "      <td>-1</td>\n",
       "      <td>-1</td>\n",
       "      <td>0</td>\n",
       "      <td>1</td>\n",
       "    </tr>\n",
       "    <tr>\n",
       "      <th>1221</th>\n",
       "      <td>1221</td>\n",
       "      <td>1</td>\n",
       "      <td>1</td>\n",
       "      <td>1</td>\n",
       "      <td>1</td>\n",
       "      <td>1</td>\n",
       "      <td>1</td>\n",
       "      <td>0</td>\n",
       "      <td>1</td>\n",
       "      <td>-1</td>\n",
       "      <td>...</td>\n",
       "      <td>0</td>\n",
       "      <td>1</td>\n",
       "      <td>1</td>\n",
       "      <td>-1</td>\n",
       "      <td>1</td>\n",
       "      <td>0</td>\n",
       "      <td>-1</td>\n",
       "      <td>-1</td>\n",
       "      <td>0</td>\n",
       "      <td>1</td>\n",
       "    </tr>\n",
       "    <tr>\n",
       "      <th>3346</th>\n",
       "      <td>3346</td>\n",
       "      <td>1</td>\n",
       "      <td>-1</td>\n",
       "      <td>1</td>\n",
       "      <td>1</td>\n",
       "      <td>1</td>\n",
       "      <td>-1</td>\n",
       "      <td>1</td>\n",
       "      <td>1</td>\n",
       "      <td>-1</td>\n",
       "      <td>...</td>\n",
       "      <td>0</td>\n",
       "      <td>1</td>\n",
       "      <td>1</td>\n",
       "      <td>1</td>\n",
       "      <td>1</td>\n",
       "      <td>1</td>\n",
       "      <td>-1</td>\n",
       "      <td>1</td>\n",
       "      <td>0</td>\n",
       "      <td>1</td>\n",
       "    </tr>\n",
       "    <tr>\n",
       "      <th>...</th>\n",
       "      <td>...</td>\n",
       "      <td>...</td>\n",
       "      <td>...</td>\n",
       "      <td>...</td>\n",
       "      <td>...</td>\n",
       "      <td>...</td>\n",
       "      <td>...</td>\n",
       "      <td>...</td>\n",
       "      <td>...</td>\n",
       "      <td>...</td>\n",
       "      <td>...</td>\n",
       "      <td>...</td>\n",
       "      <td>...</td>\n",
       "      <td>...</td>\n",
       "      <td>...</td>\n",
       "      <td>...</td>\n",
       "      <td>...</td>\n",
       "      <td>...</td>\n",
       "      <td>...</td>\n",
       "      <td>...</td>\n",
       "      <td>...</td>\n",
       "    </tr>\n",
       "    <tr>\n",
       "      <th>10703</th>\n",
       "      <td>10703</td>\n",
       "      <td>1</td>\n",
       "      <td>-1</td>\n",
       "      <td>1</td>\n",
       "      <td>-1</td>\n",
       "      <td>1</td>\n",
       "      <td>-1</td>\n",
       "      <td>-1</td>\n",
       "      <td>-1</td>\n",
       "      <td>1</td>\n",
       "      <td>...</td>\n",
       "      <td>0</td>\n",
       "      <td>1</td>\n",
       "      <td>1</td>\n",
       "      <td>1</td>\n",
       "      <td>1</td>\n",
       "      <td>1</td>\n",
       "      <td>-1</td>\n",
       "      <td>-1</td>\n",
       "      <td>0</td>\n",
       "      <td>-1</td>\n",
       "    </tr>\n",
       "    <tr>\n",
       "      <th>1429</th>\n",
       "      <td>1429</td>\n",
       "      <td>1</td>\n",
       "      <td>1</td>\n",
       "      <td>1</td>\n",
       "      <td>1</td>\n",
       "      <td>1</td>\n",
       "      <td>-1</td>\n",
       "      <td>0</td>\n",
       "      <td>-1</td>\n",
       "      <td>-1</td>\n",
       "      <td>...</td>\n",
       "      <td>0</td>\n",
       "      <td>-1</td>\n",
       "      <td>1</td>\n",
       "      <td>-1</td>\n",
       "      <td>1</td>\n",
       "      <td>1</td>\n",
       "      <td>-1</td>\n",
       "      <td>1</td>\n",
       "      <td>0</td>\n",
       "      <td>1</td>\n",
       "    </tr>\n",
       "    <tr>\n",
       "      <th>5416</th>\n",
       "      <td>5416</td>\n",
       "      <td>1</td>\n",
       "      <td>-1</td>\n",
       "      <td>1</td>\n",
       "      <td>-1</td>\n",
       "      <td>1</td>\n",
       "      <td>-1</td>\n",
       "      <td>1</td>\n",
       "      <td>1</td>\n",
       "      <td>-1</td>\n",
       "      <td>...</td>\n",
       "      <td>0</td>\n",
       "      <td>1</td>\n",
       "      <td>1</td>\n",
       "      <td>-1</td>\n",
       "      <td>1</td>\n",
       "      <td>1</td>\n",
       "      <td>1</td>\n",
       "      <td>1</td>\n",
       "      <td>0</td>\n",
       "      <td>1</td>\n",
       "    </tr>\n",
       "    <tr>\n",
       "      <th>10255</th>\n",
       "      <td>10255</td>\n",
       "      <td>-1</td>\n",
       "      <td>1</td>\n",
       "      <td>1</td>\n",
       "      <td>1</td>\n",
       "      <td>1</td>\n",
       "      <td>-1</td>\n",
       "      <td>1</td>\n",
       "      <td>-1</td>\n",
       "      <td>1</td>\n",
       "      <td>...</td>\n",
       "      <td>0</td>\n",
       "      <td>1</td>\n",
       "      <td>1</td>\n",
       "      <td>1</td>\n",
       "      <td>1</td>\n",
       "      <td>0</td>\n",
       "      <td>1</td>\n",
       "      <td>-1</td>\n",
       "      <td>1</td>\n",
       "      <td>1</td>\n",
       "    </tr>\n",
       "    <tr>\n",
       "      <th>10748</th>\n",
       "      <td>10748</td>\n",
       "      <td>-1</td>\n",
       "      <td>-1</td>\n",
       "      <td>1</td>\n",
       "      <td>1</td>\n",
       "      <td>1</td>\n",
       "      <td>-1</td>\n",
       "      <td>1</td>\n",
       "      <td>1</td>\n",
       "      <td>1</td>\n",
       "      <td>...</td>\n",
       "      <td>0</td>\n",
       "      <td>1</td>\n",
       "      <td>1</td>\n",
       "      <td>1</td>\n",
       "      <td>1</td>\n",
       "      <td>-1</td>\n",
       "      <td>-1</td>\n",
       "      <td>1</td>\n",
       "      <td>1</td>\n",
       "      <td>1</td>\n",
       "    </tr>\n",
       "  </tbody>\n",
       "</table>\n",
       "<p>3685 rows × 28 columns</p>\n",
       "</div>"
      ],
      "text/plain": [
       "       Unnamed: 0  having_IP_address  url_Length  shortening_service  \\\n",
       "8307         8307                  1          -1                   1   \n",
       "5196         5196                 -1          -1                  -1   \n",
       "9876         9876                  1          -1                   1   \n",
       "1221         1221                  1           1                   1   \n",
       "3346         3346                  1          -1                   1   \n",
       "...           ...                ...         ...                 ...   \n",
       "10703       10703                  1          -1                   1   \n",
       "1429         1429                  1           1                   1   \n",
       "5416         5416                  1          -1                   1   \n",
       "10255       10255                 -1           1                   1   \n",
       "10748       10748                 -1          -1                   1   \n",
       "\n",
       "       having_At_Symbol  double_slash_redirecting  prefix_suffix  \\\n",
       "8307                  1                         1             -1   \n",
       "5196                 -1                        -1             -1   \n",
       "9876                  1                         1             -1   \n",
       "1221                  1                         1              1   \n",
       "3346                  1                         1             -1   \n",
       "...                 ...                       ...            ...   \n",
       "10703                -1                         1             -1   \n",
       "1429                  1                         1             -1   \n",
       "5416                 -1                         1             -1   \n",
       "10255                 1                         1             -1   \n",
       "10748                 1                         1             -1   \n",
       "\n",
       "       having_sub_domain  SSL_final_State  domain_registration_length  ...  \\\n",
       "8307                   0                1                           1  ...   \n",
       "5196                   1                1                          -1  ...   \n",
       "9876                   0               -1                          -1  ...   \n",
       "1221                   0                1                          -1  ...   \n",
       "3346                   1                1                          -1  ...   \n",
       "...                  ...              ...                         ...  ...   \n",
       "10703                 -1               -1                           1  ...   \n",
       "1429                   0               -1                          -1  ...   \n",
       "5416                   1                1                          -1  ...   \n",
       "10255                  1               -1                           1  ...   \n",
       "10748                  1                1                           1  ...   \n",
       "\n",
       "       redirect  on_mouseover  right_click  age_of_domain  DNS_record  \\\n",
       "8307          0            -1            1              1           1   \n",
       "5196          1             1            1             -1          -1   \n",
       "9876          0             1            1              1           1   \n",
       "1221          0             1            1             -1           1   \n",
       "3346          0             1            1              1           1   \n",
       "...         ...           ...          ...            ...         ...   \n",
       "10703         0             1            1              1           1   \n",
       "1429          0            -1            1             -1           1   \n",
       "5416          0             1            1             -1           1   \n",
       "10255         0             1            1              1           1   \n",
       "10748         0             1            1              1           1   \n",
       "\n",
       "       web_traffic  page_rank  google_index  links_pointing_to_page  \\\n",
       "8307             1         -1             1                       0   \n",
       "5196            -1          1             1                       0   \n",
       "9876             0         -1            -1                       0   \n",
       "1221             0         -1            -1                       0   \n",
       "3346             1         -1             1                       0   \n",
       "...            ...        ...           ...                     ...   \n",
       "10703            1         -1            -1                       0   \n",
       "1429             1         -1             1                       0   \n",
       "5416             1          1             1                       0   \n",
       "10255            0          1            -1                       1   \n",
       "10748           -1         -1             1                       1   \n",
       "\n",
       "       statistical_report  \n",
       "8307                    1  \n",
       "5196                    1  \n",
       "9876                    1  \n",
       "1221                    1  \n",
       "3346                    1  \n",
       "...                   ...  \n",
       "10703                  -1  \n",
       "1429                    1  \n",
       "5416                    1  \n",
       "10255                   1  \n",
       "10748                   1  \n",
       "\n",
       "[3685 rows x 28 columns]"
      ]
     },
     "execution_count": 12,
     "metadata": {},
     "output_type": "execute_result"
    }
   ],
   "source": [
    "featuresTesting"
   ]
  },
  {
   "cell_type": "markdown",
   "metadata": {
    "id": "xB1_DBgCLwai"
   },
   "source": [
    "## Model Building"
   ]
  },
  {
   "cell_type": "markdown",
   "metadata": {
    "id": "Env4J2woL6cq"
   },
   "source": [
    "### Logistic Regression"
   ]
  },
  {
   "cell_type": "code",
   "execution_count": 13,
   "metadata": {
    "colab": {
     "base_uri": "https://localhost:8080/"
    },
    "executionInfo": {
     "elapsed": 102,
     "status": "ok",
     "timestamp": 1661447307896,
     "user": {
      "displayName": "AVINASH M",
      "userId": "16004639547808340759"
     },
     "user_tz": -330
    },
    "id": "ra55K3K0L2zw",
    "outputId": "4674deb9-cebb-40db-9678-d66a4b5338a2"
   },
   "outputs": [
    {
     "data": {
      "text/plain": [
       "LogisticRegression()"
      ]
     },
     "execution_count": 13,
     "metadata": {},
     "output_type": "execute_result"
    }
   ],
   "source": [
    "classifier = LogisticRegression()\n",
    "classifier.fit(featuresTraining, labelsTraining)"
   ]
  },
  {
   "cell_type": "code",
   "execution_count": 14,
   "metadata": {
    "executionInfo": {
     "elapsed": 91,
     "status": "ok",
     "timestamp": 1661447307898,
     "user": {
      "displayName": "AVINASH M",
      "userId": "16004639547808340759"
     },
     "user_tz": -330
    },
    "id": "ONQPgUGnOeW6"
   },
   "outputs": [],
   "source": [
    "y_pred = classifier.predict(featuresTesting)\n",
    "logisticAccuracy = accuracy_score(labelsTesting, y_pred)\n",
    "logisticPrecision = precision_score(labelsTesting, y_pred)\n",
    "logisticRecall = recall_score(labelsTesting, y_pred)\n",
    "logisticF1 = f1_score(labelsTesting, y_pred)\n",
    "logisticLogLoss = log_loss(labelsTesting, y_pred)\n",
    "logisticAucScore = roc_auc_score(labelsTesting, y_pred)\n",
    "logisticConfusionMatrix = confusion_matrix(labelsTesting, y_pred)"
   ]
  },
  {
   "cell_type": "code",
   "execution_count": 15,
   "metadata": {
    "colab": {
     "base_uri": "https://localhost:8080/"
    },
    "executionInfo": {
     "elapsed": 91,
     "status": "ok",
     "timestamp": 1661447307899,
     "user": {
      "displayName": "AVINASH M",
      "userId": "16004639547808340759"
     },
     "user_tz": -330
    },
    "id": "Q9SVmQJpPgSc",
    "outputId": "4296f78d-fb81-4157-867c-a661afa6f7f5"
   },
   "outputs": [
    {
     "name": "stdout",
     "output_type": "stream",
     "text": [
      "Accuracy: 0.9242876526458615\n",
      "Precision: 0.9218974604695735\n",
      "Recall: 0.9431372549019608\n",
      "F1 Score: 0.9323964138599466\n",
      "Log Loss: 2.6150472044942212\n",
      "AUC Score: 0.9220245545026522\n",
      "Confusion Matrix:\n",
      "[[1482  163]\n",
      " [ 116 1924]]\n"
     ]
    }
   ],
   "source": [
    "print(f\"Accuracy: {logisticAccuracy}\")\n",
    "print(f\"Precision: {logisticPrecision}\")\n",
    "print(f\"Recall: {logisticRecall}\")\n",
    "print(f\"F1 Score: {logisticF1}\")\n",
    "print(f\"Log Loss: {logisticLogLoss}\")\n",
    "print(f\"AUC Score: {logisticAucScore}\")\n",
    "print(\"Confusion Matrix:\")\n",
    "print(logisticConfusionMatrix)"
   ]
  },
  {
   "cell_type": "markdown",
   "metadata": {
    "id": "CCM8R1WxRZys"
   },
   "source": [
    "### Stochastic Gradient Descent (SGD)"
   ]
  },
  {
   "cell_type": "code",
   "execution_count": 16,
   "metadata": {
    "colab": {
     "base_uri": "https://localhost:8080/"
    },
    "executionInfo": {
     "elapsed": 714,
     "status": "ok",
     "timestamp": 1661447308527,
     "user": {
      "displayName": "AVINASH M",
      "userId": "16004639547808340759"
     },
     "user_tz": -330
    },
    "id": "9Y-hK7hJRjlk",
    "outputId": "a79e6599-a506-4c3b-df36-09ce51b2d98e"
   },
   "outputs": [
    {
     "data": {
      "text/plain": [
       "SGDClassifier()"
      ]
     },
     "execution_count": 16,
     "metadata": {},
     "output_type": "execute_result"
    }
   ],
   "source": [
    "classifier = SGDClassifier()\n",
    "classifier.fit(featuresTraining, labelsTraining)"
   ]
  },
  {
   "cell_type": "code",
   "execution_count": 17,
   "metadata": {
    "executionInfo": {
     "elapsed": 36,
     "status": "ok",
     "timestamp": 1661447308529,
     "user": {
      "displayName": "AVINASH M",
      "userId": "16004639547808340759"
     },
     "user_tz": -330
    },
    "id": "hFAfApEiRv03"
   },
   "outputs": [],
   "source": [
    "y_pred = classifier.predict(featuresTesting)\n",
    "stochasticAccuracy = accuracy_score(labelsTesting, y_pred)\n",
    "stochasticPrecision = precision_score(labelsTesting, y_pred)\n",
    "stochasticRecall = recall_score(labelsTesting, y_pred)\n",
    "stochasticF1 = f1_score(labelsTesting, y_pred)\n",
    "stochasticLogLoss = log_loss(labelsTesting, y_pred)\n",
    "stochasticAucScore = roc_auc_score(labelsTesting, y_pred)\n",
    "stochasticConfusionMatrix = confusion_matrix(labelsTesting, y_pred)"
   ]
  },
  {
   "cell_type": "code",
   "execution_count": 18,
   "metadata": {
    "colab": {
     "base_uri": "https://localhost:8080/"
    },
    "executionInfo": {
     "elapsed": 36,
     "status": "ok",
     "timestamp": 1661447308530,
     "user": {
      "displayName": "AVINASH M",
      "userId": "16004639547808340759"
     },
     "user_tz": -330
    },
    "id": "esrq4rFYR11F",
    "outputId": "a0c5af9c-07b8-47dd-bd42-9d794a55b113"
   },
   "outputs": [
    {
     "name": "stdout",
     "output_type": "stream",
     "text": [
      "Accuracy: 0.5004070556309362\n",
      "Precision: 0.9502262443438914\n",
      "Recall: 0.10294117647058823\n",
      "F1 Score: 0.18575851393188852\n",
      "Log Loss: 17.255331380896145\n",
      "AUC Score: 0.5481271231897015\n",
      "Confusion Matrix:\n",
      "[[1634   11]\n",
      " [1830  210]]\n"
     ]
    }
   ],
   "source": [
    "print(f\"Accuracy: {stochasticAccuracy}\")\n",
    "print(f\"Precision: {stochasticPrecision}\")\n",
    "print(f\"Recall: {stochasticRecall}\")\n",
    "print(f\"F1 Score: {stochasticF1}\")\n",
    "print(f\"Log Loss: {stochasticLogLoss}\")\n",
    "print(f\"AUC Score: {stochasticAucScore}\")\n",
    "print(\"Confusion Matrix:\")\n",
    "print(stochasticConfusionMatrix)"
   ]
  },
  {
   "cell_type": "markdown",
   "metadata": {
    "id": "JzOKOeNbhNjS"
   },
   "source": [
    "### Support Vector Machine (SVM)"
   ]
  },
  {
   "cell_type": "code",
   "execution_count": 19,
   "metadata": {
    "colab": {
     "base_uri": "https://localhost:8080/"
    },
    "executionInfo": {
     "elapsed": 7509,
     "status": "ok",
     "timestamp": 1661447316015,
     "user": {
      "displayName": "AVINASH M",
      "userId": "16004639547808340759"
     },
     "user_tz": -330
    },
    "id": "aFfB_kyIhP8u",
    "outputId": "ff1a407f-4612-4cef-a49e-a1f64d16c75b"
   },
   "outputs": [
    {
     "data": {
      "text/plain": [
       "SVC()"
      ]
     },
     "execution_count": 19,
     "metadata": {},
     "output_type": "execute_result"
    }
   ],
   "source": [
    "classifier = SVC()\n",
    "classifier.fit(featuresTraining, labelsTraining)"
   ]
  },
  {
   "cell_type": "code",
   "execution_count": 20,
   "metadata": {
    "executionInfo": {
     "elapsed": 245,
     "status": "ok",
     "timestamp": 1661447316017,
     "user": {
      "displayName": "AVINASH M",
      "userId": "16004639547808340759"
     },
     "user_tz": -330
    },
    "id": "QxIaKVTFhcUB"
   },
   "outputs": [],
   "source": [
    "y_pred = classifier.predict(featuresTesting)\n",
    "svmAccuracy = accuracy_score(labelsTesting, y_pred)\n",
    "svmPrecision = precision_score(labelsTesting, y_pred)\n",
    "svmRecall = recall_score(labelsTesting, y_pred)\n",
    "svmF1 = f1_score(labelsTesting, y_pred)\n",
    "svmLogLoss = log_loss(labelsTesting, y_pred)\n",
    "svmAucScore = roc_auc_score(labelsTesting, y_pred)\n",
    "svmConfusionMatrix = confusion_matrix(labelsTesting, y_pred)"
   ]
  },
  {
   "cell_type": "code",
   "execution_count": 21,
   "metadata": {
    "colab": {
     "base_uri": "https://localhost:8080/"
    },
    "executionInfo": {
     "elapsed": 229,
     "status": "ok",
     "timestamp": 1661447316018,
     "user": {
      "displayName": "AVINASH M",
      "userId": "16004639547808340759"
     },
     "user_tz": -330
    },
    "id": "FR205r7bhdbZ",
    "outputId": "ed2021ff-ee2d-4552-bd46-e4ea55fc7ca2"
   },
   "outputs": [
    {
     "name": "stdout",
     "output_type": "stream",
     "text": [
      "Accuracy: 0.55359565807327\n",
      "Precision: 0.55359565807327\n",
      "Recall: 1.0\n",
      "F1 Score: 0.7126637554585152\n",
      "Log Loss: 15.418616691289213\n",
      "AUC Score: 0.5\n",
      "Confusion Matrix:\n",
      "[[   0 1645]\n",
      " [   0 2040]]\n"
     ]
    }
   ],
   "source": [
    "print(f\"Accuracy: {svmAccuracy}\")\n",
    "print(f\"Precision: {svmPrecision }\")\n",
    "print(f\"Recall: {svmRecall}\")\n",
    "print(f\"F1 Score: {svmF1}\")\n",
    "print(f\"Log Loss: {svmLogLoss}\")\n",
    "print(f\"AUC Score: {svmAucScore}\")\n",
    "print(\"Confusion Matrix:\")\n",
    "print(svmConfusionMatrix)"
   ]
  },
  {
   "cell_type": "markdown",
   "metadata": {
    "id": "dCs0pkl5Unsv"
   },
   "source": [
    "### Decision Tree"
   ]
  },
  {
   "cell_type": "code",
   "execution_count": 22,
   "metadata": {
    "colab": {
     "base_uri": "https://localhost:8080/"
    },
    "executionInfo": {
     "elapsed": 209,
     "status": "ok",
     "timestamp": 1661447316019,
     "user": {
      "displayName": "AVINASH M",
      "userId": "16004639547808340759"
     },
     "user_tz": -330
    },
    "id": "rqVEjkQdUqiN",
    "outputId": "7b2930de-8fa5-4cf3-b379-d922b7e50eff"
   },
   "outputs": [
    {
     "data": {
      "text/plain": [
       "DecisionTreeClassifier()"
      ]
     },
     "execution_count": 22,
     "metadata": {},
     "output_type": "execute_result"
    }
   ],
   "source": [
    "classifier = DecisionTreeClassifier()\n",
    "classifier.fit(featuresTraining, labelsTraining)"
   ]
  },
  {
   "cell_type": "code",
   "execution_count": 23,
   "metadata": {
    "executionInfo": {
     "elapsed": 174,
     "status": "ok",
     "timestamp": 1661447316019,
     "user": {
      "displayName": "AVINASH M",
      "userId": "16004639547808340759"
     },
     "user_tz": -330
    },
    "id": "EtJ6C9N8U73d"
   },
   "outputs": [],
   "source": [
    "y_pred = classifier.predict(featuresTesting)\n",
    "decisionTreeAccuracy = accuracy_score(labelsTesting, y_pred)\n",
    "decisionTreePrecision = precision_score(labelsTesting, y_pred)\n",
    "decisionTreeRecall = recall_score(labelsTesting, y_pred)\n",
    "decisionTreeF1 = f1_score(labelsTesting, y_pred)\n",
    "decisionTreeLogLoss = log_loss(labelsTesting, y_pred)\n",
    "decisionTreeAucScore = roc_auc_score(labelsTesting, y_pred)\n",
    "decisionTreeConfusionMatrix = confusion_matrix(labelsTesting, y_pred)"
   ]
  },
  {
   "cell_type": "code",
   "execution_count": 24,
   "metadata": {
    "colab": {
     "base_uri": "https://localhost:8080/"
    },
    "executionInfo": {
     "elapsed": 193,
     "status": "ok",
     "timestamp": 1661447316046,
     "user": {
      "displayName": "AVINASH M",
      "userId": "16004639547808340759"
     },
     "user_tz": -330
    },
    "id": "ON51SnrdU98V",
    "outputId": "2882878a-8a5c-4f47-ade1-392b470bb35b"
   },
   "outputs": [
    {
     "name": "stdout",
     "output_type": "stream",
     "text": [
      "Accuracy: 0.95359565807327\n",
      "Precision: 0.9494949494949495\n",
      "Recall: 0.9676470588235294\n",
      "F1 Score: 0.9584850691915513\n",
      "Log Loss: 1.6027719732048573\n",
      "AUC Score: 0.9519086357947435\n",
      "Confusion Matrix:\n",
      "[[1540  105]\n",
      " [  66 1974]]\n"
     ]
    }
   ],
   "source": [
    "print(f\"Accuracy: {decisionTreeAccuracy}\")\n",
    "print(f\"Precision: {decisionTreePrecision}\")\n",
    "print(f\"Recall: {decisionTreeRecall}\")\n",
    "print(f\"F1 Score: {decisionTreeF1}\")\n",
    "print(f\"Log Loss: {decisionTreeLogLoss}\")\n",
    "print(f\"AUC Score: {decisionTreeAucScore}\")\n",
    "print(\"Confusion Matrix:\")\n",
    "print(decisionTreeConfusionMatrix)"
   ]
  },
  {
   "cell_type": "markdown",
   "metadata": {
    "id": "Rncw361pWKmI"
   },
   "source": [
    "### K Nearest Neighbors (KNN)"
   ]
  },
  {
   "cell_type": "code",
   "execution_count": 25,
   "metadata": {
    "colab": {
     "base_uri": "https://localhost:8080/"
    },
    "executionInfo": {
     "elapsed": 186,
     "status": "ok",
     "timestamp": 1661447316049,
     "user": {
      "displayName": "AVINASH M",
      "userId": "16004639547808340759"
     },
     "user_tz": -330
    },
    "id": "OtOm2igpYWK2",
    "outputId": "9503bc8a-ab4e-403a-eca5-8cee1ca057ee"
   },
   "outputs": [
    {
     "data": {
      "text/plain": [
       "KNeighborsClassifier()"
      ]
     },
     "execution_count": 25,
     "metadata": {},
     "output_type": "execute_result"
    }
   ],
   "source": [
    "classifier = KNeighborsClassifier()\n",
    "classifier.fit(featuresTraining, labelsTraining)"
   ]
  },
  {
   "cell_type": "code",
   "execution_count": 26,
   "metadata": {
    "executionInfo": {
     "elapsed": 152,
     "status": "ok",
     "timestamp": 1661447316056,
     "user": {
      "displayName": "AVINASH M",
      "userId": "16004639547808340759"
     },
     "user_tz": -330
    },
    "id": "x_BaxEorYWLA"
   },
   "outputs": [],
   "source": [
    "y_pred = classifier.predict(featuresTesting)\n",
    "knnAccuracy = accuracy_score(labelsTesting, y_pred)\n",
    "knnPrecision = precision_score(labelsTesting, y_pred)\n",
    "knnRecall = recall_score(labelsTesting, y_pred)\n",
    "knnF1 = f1_score(labelsTesting, y_pred)\n",
    "knnLogLoss = log_loss(labelsTesting, y_pred)\n",
    "knnAucScore = roc_auc_score(labelsTesting, y_pred)\n",
    "knnConfusionMatrix = confusion_matrix(labelsTesting, y_pred)"
   ]
  },
  {
   "cell_type": "code",
   "execution_count": 27,
   "metadata": {
    "colab": {
     "base_uri": "https://localhost:8080/"
    },
    "executionInfo": {
     "elapsed": 139,
     "status": "ok",
     "timestamp": 1661447316057,
     "user": {
      "displayName": "AVINASH M",
      "userId": "16004639547808340759"
     },
     "user_tz": -330
    },
    "id": "L7qIJKF8YWLB",
    "outputId": "be5051d6-793f-432f-8891-07649f676f49"
   },
   "outputs": [
    {
     "name": "stdout",
     "output_type": "stream",
     "text": [
      "Accuracy: 0.5744911804613297\n",
      "Precision: 0.6090573012939002\n",
      "Recall: 0.6460784313725491\n",
      "F1 Score: 0.6270218839200761\n",
      "Log Loss: 14.696737543187488\n",
      "AUC Score: 0.5658963585434174\n",
      "Confusion Matrix:\n",
      "[[ 799  846]\n",
      " [ 722 1318]]\n"
     ]
    }
   ],
   "source": [
    "print(f\"Accuracy: {knnAccuracy}\")\n",
    "print(f\"Precision: {knnPrecision}\")\n",
    "print(f\"Recall: {knnRecall}\")\n",
    "print(f\"F1 Score: {knnF1}\")\n",
    "print(f\"Log Loss: {knnLogLoss}\")\n",
    "print(f\"AUC Score: {knnAucScore}\")\n",
    "print(\"Confusion Matrix:\")\n",
    "print(knnConfusionMatrix)"
   ]
  },
  {
   "cell_type": "markdown",
   "metadata": {
    "id": "V2NE0wYDYlIv"
   },
   "source": [
    "### Random Forest"
   ]
  },
  {
   "cell_type": "code",
   "execution_count": 28,
   "metadata": {
    "colab": {
     "base_uri": "https://localhost:8080/"
    },
    "executionInfo": {
     "elapsed": 120,
     "status": "ok",
     "timestamp": 1661447316058,
     "user": {
      "displayName": "AVINASH M",
      "userId": "16004639547808340759"
     },
     "user_tz": -330
    },
    "id": "OGgn2aldYrNv",
    "outputId": "faf9497f-0e5d-437a-a535-69c8443ef9a4"
   },
   "outputs": [
    {
     "data": {
      "text/plain": [
       "RandomForestClassifier()"
      ]
     },
     "execution_count": 28,
     "metadata": {},
     "output_type": "execute_result"
    }
   ],
   "source": [
    "classifier = RandomForestClassifier()\n",
    "classifier.fit(featuresTraining, labelsTraining)"
   ]
  },
  {
   "cell_type": "code",
   "execution_count": 29,
   "metadata": {
    "executionInfo": {
     "elapsed": 111,
     "status": "ok",
     "timestamp": 1661447316059,
     "user": {
      "displayName": "AVINASH M",
      "userId": "16004639547808340759"
     },
     "user_tz": -330
    },
    "id": "8U-5xsggYrNy"
   },
   "outputs": [],
   "source": [
    "y_pred = classifier.predict(featuresTesting)\n",
    "randomForestAccuracy = accuracy_score(labelsTesting, y_pred)\n",
    "randomForestPrecision = precision_score(labelsTesting, y_pred)\n",
    "randomForestRecall = recall_score(labelsTesting, y_pred)\n",
    "randomForestF1 = f1_score(labelsTesting, y_pred)\n",
    "randomForestLogLoss = log_loss(labelsTesting, y_pred)\n",
    "randomForestAucScore = roc_auc_score(labelsTesting, y_pred)\n",
    "randomForestConfusionMatrix = confusion_matrix(labelsTesting, y_pred)"
   ]
  },
  {
   "cell_type": "code",
   "execution_count": 30,
   "metadata": {
    "colab": {
     "base_uri": "https://localhost:8080/"
    },
    "executionInfo": {
     "elapsed": 110,
     "status": "ok",
     "timestamp": 1661447316060,
     "user": {
      "displayName": "AVINASH M",
      "userId": "16004639547808340759"
     },
     "user_tz": -330
    },
    "id": "ovZj2iH0YrNz",
    "outputId": "1c3ba359-2d6f-49dd-f8ba-10a84e0d0f80"
   },
   "outputs": [
    {
     "name": "stdout",
     "output_type": "stream",
     "text": [
      "Accuracy: 0.9677069199457259\n",
      "Precision: 0.9611137782045127\n",
      "Recall: 0.9813725490196078\n",
      "F1 Score: 0.9711375212224109\n",
      "Log Loss: 1.1153810470518912\n",
      "AUC Score: 0.9660662137195304\n",
      "Confusion Matrix:\n",
      "[[1564   81]\n",
      " [  38 2002]]\n"
     ]
    }
   ],
   "source": [
    "print(f\"Accuracy: {randomForestAccuracy}\")\n",
    "print(f\"Precision: {randomForestPrecision}\")\n",
    "print(f\"Recall: {randomForestRecall}\")\n",
    "print(f\"F1 Score: {randomForestF1}\")\n",
    "print(f\"Log Loss: {randomForestLogLoss}\")\n",
    "print(f\"AUC Score: {randomForestAucScore}\")\n",
    "print(\"Confusion Matrix:\")\n",
    "print(randomForestConfusionMatrix)"
   ]
  },
  {
   "cell_type": "markdown",
   "metadata": {
    "id": "6cUphj7VaC7s"
   },
   "source": [
    "### XG Boost (XGB)"
   ]
  },
  {
   "cell_type": "code",
   "execution_count": 31,
   "metadata": {
    "colab": {
     "base_uri": "https://localhost:8080/"
    },
    "executionInfo": {
     "elapsed": 106,
     "status": "ok",
     "timestamp": 1661447316062,
     "user": {
      "displayName": "AVINASH M",
      "userId": "16004639547808340759"
     },
     "user_tz": -330
    },
    "id": "bHCXOkMRa4hb",
    "outputId": "da44a2e1-995b-4b48-9a50-061c9a3ad868"
   },
   "outputs": [
    {
     "name": "stdout",
     "output_type": "stream",
     "text": [
      "[14:20:23] WARNING: ..\\src\\learner.cc:1115: Starting in XGBoost 1.3.0, the default evaluation metric used with the objective 'binary:logistic' was changed from 'error' to 'logloss'. Explicitly set eval_metric if you'd like to restore the old behavior.\n"
     ]
    },
    {
     "data": {
      "text/plain": [
       "XGBClassifier(base_score=0.5, booster='gbtree', colsample_bylevel=1,\n",
       "              colsample_bynode=1, colsample_bytree=1, enable_categorical=False,\n",
       "              gamma=0, gpu_id=-1, importance_type=None,\n",
       "              interaction_constraints='', learning_rate=0.300000012,\n",
       "              max_delta_step=0, max_depth=6, min_child_weight=1, missing=nan,\n",
       "              monotone_constraints='()', n_estimators=100, n_jobs=4,\n",
       "              num_parallel_tree=1, predictor='auto', random_state=0,\n",
       "              reg_alpha=0, reg_lambda=1, scale_pos_weight=1, subsample=1,\n",
       "              tree_method='exact', validate_parameters=1, verbosity=None)"
      ]
     },
     "execution_count": 31,
     "metadata": {},
     "output_type": "execute_result"
    }
   ],
   "source": [
    "classifier = xgb.XGBClassifier()\n",
    "classifier.fit(featuresTraining, labelsTraining)"
   ]
  },
  {
   "cell_type": "code",
   "execution_count": 32,
   "metadata": {
    "executionInfo": {
     "elapsed": 102,
     "status": "ok",
     "timestamp": 1661447316063,
     "user": {
      "displayName": "AVINASH M",
      "userId": "16004639547808340759"
     },
     "user_tz": -330
    },
    "id": "6ipey6OKa4hc"
   },
   "outputs": [],
   "source": [
    "y_pred = classifier.predict(featuresTesting)\n",
    "xgbAccuracy = accuracy_score(labelsTesting, y_pred)\n",
    "xgbPrecision = precision_score(labelsTesting, y_pred)\n",
    "xgbRecall = recall_score(labelsTesting, y_pred)\n",
    "xgbF1 = f1_score(labelsTesting, y_pred)\n",
    "xgbLogLoss = log_loss(labelsTesting, y_pred)\n",
    "xgbAucScore = roc_auc_score(labelsTesting, y_pred)\n",
    "xgbConfusionMatrix = confusion_matrix(labelsTesting, y_pred)"
   ]
  },
  {
   "cell_type": "code",
   "execution_count": 33,
   "metadata": {
    "colab": {
     "base_uri": "https://localhost:8080/"
    },
    "executionInfo": {
     "elapsed": 103,
     "status": "ok",
     "timestamp": 1661447316065,
     "user": {
      "displayName": "AVINASH M",
      "userId": "16004639547808340759"
     },
     "user_tz": -330
    },
    "id": "BDL5-7-za4hc",
    "outputId": "dc3f6b6c-3cc9-4536-ba14-b201ae47a698"
   },
   "outputs": [
    {
     "name": "stdout",
     "output_type": "stream",
     "text": [
      "Accuracy: 0.9614654002713704\n",
      "Precision: 0.9620253164556962\n",
      "Recall: 0.9686274509803922\n",
      "F1 Score: 0.9653150952613581\n",
      "Log Loss: 1.3309548484876188\n",
      "AUC Score: 0.9606055188032661\n",
      "Confusion Matrix:\n",
      "[[1567   78]\n",
      " [  64 1976]]\n"
     ]
    }
   ],
   "source": [
    "print(f\"Accuracy: {xgbAccuracy}\")\n",
    "print(f\"Precision: {xgbPrecision}\")\n",
    "print(f\"Recall: {xgbRecall}\")\n",
    "print(f\"F1 Score: {xgbF1}\")\n",
    "print(f\"Log Loss: {xgbLogLoss}\")\n",
    "print(f\"AUC Score: {xgbAucScore}\")\n",
    "print(\"Confusion Matrix:\")\n",
    "print(xgbConfusionMatrix)"
   ]
  },
  {
   "cell_type": "markdown",
   "metadata": {
    "id": "Tp1zx_SLcBmp"
   },
   "source": [
    "### Multi Layer Perceptron (MLP)"
   ]
  },
  {
   "cell_type": "code",
   "execution_count": 34,
   "metadata": {
    "colab": {
     "base_uri": "https://localhost:8080/"
    },
    "executionInfo": {
     "elapsed": 2545,
     "status": "ok",
     "timestamp": 1661447318512,
     "user": {
      "displayName": "AVINASH M",
      "userId": "16004639547808340759"
     },
     "user_tz": -330
    },
    "id": "R0kqbKAkcYnA",
    "outputId": "52ca3dbd-203e-4b56-dd8d-3b00004ee2e9"
   },
   "outputs": [
    {
     "data": {
      "text/plain": [
       "MLPClassifier()"
      ]
     },
     "execution_count": 34,
     "metadata": {},
     "output_type": "execute_result"
    }
   ],
   "source": [
    "classifier = MLPClassifier()\n",
    "classifier.fit(featuresTraining, labelsTraining)"
   ]
  },
  {
   "cell_type": "code",
   "execution_count": 35,
   "metadata": {
    "executionInfo": {
     "elapsed": 16,
     "status": "ok",
     "timestamp": 1661447318514,
     "user": {
      "displayName": "AVINASH M",
      "userId": "16004639547808340759"
     },
     "user_tz": -330
    },
    "id": "DIU0NzMAcYnB"
   },
   "outputs": [],
   "source": [
    "y_pred = classifier.predict(featuresTesting)\n",
    "mlpAccuracy = accuracy_score(labelsTesting, y_pred)\n",
    "mlpPrecision = precision_score(labelsTesting, y_pred)\n",
    "mlpRecall = recall_score(labelsTesting, y_pred)\n",
    "mlpF1 = f1_score(labelsTesting, y_pred)\n",
    "mlpLogLoss = log_loss(labelsTesting, y_pred)\n",
    "mlpAucScore = roc_auc_score(labelsTesting, y_pred)\n",
    "mlpConfusionMatrix = confusion_matrix(labelsTesting, y_pred)"
   ]
  },
  {
   "cell_type": "code",
   "execution_count": 36,
   "metadata": {
    "colab": {
     "base_uri": "https://localhost:8080/"
    },
    "executionInfo": {
     "elapsed": 16,
     "status": "ok",
     "timestamp": 1661447318515,
     "user": {
      "displayName": "AVINASH M",
      "userId": "16004639547808340759"
     },
     "user_tz": -330
    },
    "id": "nzQsrLtocYnE",
    "outputId": "c2144a70-0b33-4bc1-d2bb-ca5f16fd7a74"
   },
   "outputs": [
    {
     "name": "stdout",
     "output_type": "stream",
     "text": [
      "Accuracy: 0.5690637720488467\n",
      "Precision: 0.9669421487603306\n",
      "Recall: 0.22941176470588234\n",
      "F1 Score: 0.37083993660855785\n",
      "Log Loss: 14.884013489464602\n",
      "AUC Score: 0.6098426604684426\n",
      "Confusion Matrix:\n",
      "[[1629   16]\n",
      " [1572  468]]\n"
     ]
    }
   ],
   "source": [
    "print(f\"Accuracy: {mlpAccuracy}\")\n",
    "print(f\"Precision: {mlpPrecision}\")\n",
    "print(f\"Recall: {mlpRecall}\")\n",
    "print(f\"F1 Score: {mlpF1}\")\n",
    "print(f\"Log Loss: {mlpLogLoss}\")\n",
    "print(f\"AUC Score: {mlpAucScore}\")\n",
    "print(\"Confusion Matrix:\")\n",
    "print(mlpConfusionMatrix)"
   ]
  },
  {
   "cell_type": "markdown",
   "metadata": {},
   "source": [
    "### Quadratic Discriminant Analysis (QDA)"
   ]
  },
  {
   "cell_type": "code",
   "execution_count": 37,
   "metadata": {},
   "outputs": [
    {
     "data": {
      "text/plain": [
       "QuadraticDiscriminantAnalysis()"
      ]
     },
     "execution_count": 37,
     "metadata": {},
     "output_type": "execute_result"
    }
   ],
   "source": [
    "classifier = QuadraticDiscriminantAnalysis()\n",
    "classifier.fit(featuresTraining, labelsTraining)"
   ]
  },
  {
   "cell_type": "code",
   "execution_count": 38,
   "metadata": {},
   "outputs": [],
   "source": [
    "y_pred = classifier.predict(featuresTesting)\n",
    "qdaAccuracy = accuracy_score(labelsTesting, y_pred)\n",
    "qdaPrecision = precision_score(labelsTesting, y_pred)\n",
    "qdaRecall = recall_score(labelsTesting, y_pred)\n",
    "qdaF1 = f1_score(labelsTesting, y_pred)\n",
    "qdaLogLoss = log_loss(labelsTesting, y_pred)\n",
    "qdaAucScore = roc_auc_score(labelsTesting, y_pred)\n",
    "qdaConfusionMatrix = confusion_matrix(labelsTesting, y_pred)"
   ]
  },
  {
   "cell_type": "code",
   "execution_count": 39,
   "metadata": {},
   "outputs": [
    {
     "name": "stdout",
     "output_type": "stream",
     "text": [
      "Accuracy: 0.576933514246947\n",
      "Precision: 1.0\n",
      "Recall: 0.2357843137254902\n",
      "F1 Score: 0.38159460531535105\n",
      "Log Loss: 14.61219875160536\n",
      "AUC Score: 0.6178921568627451\n",
      "Confusion Matrix:\n",
      "[[1645    0]\n",
      " [1559  481]]\n"
     ]
    }
   ],
   "source": [
    "print(f\"Accuracy: {qdaAccuracy}\")\n",
    "print(f\"Precision: {qdaPrecision}\")\n",
    "print(f\"Recall: {qdaRecall}\")\n",
    "print(f\"F1 Score: {qdaF1}\")\n",
    "print(f\"Log Loss: {qdaLogLoss}\")\n",
    "print(f\"AUC Score: {qdaAucScore}\")\n",
    "print(\"Confusion Matrix:\")\n",
    "print(qdaConfusionMatrix)"
   ]
  },
  {
   "cell_type": "markdown",
   "metadata": {
    "id": "VexC8f3roObg"
   },
   "source": [
    "## Comparison of F1 Score using Visualization"
   ]
  },
  {
   "cell_type": "code",
   "execution_count": 40,
   "metadata": {
    "executionInfo": {
     "elapsed": 10,
     "status": "ok",
     "timestamp": 1661447318515,
     "user": {
      "displayName": "AVINASH M",
      "userId": "16004639547808340759"
     },
     "user_tz": -330
    },
    "id": "DpDnl-6doVM9"
   },
   "outputs": [],
   "source": [
    "f1Scores = [\n",
    "    [\"Logistic\", logisticF1],\n",
    "    [\"SGD\", stochasticF1],\n",
    "    [\"SVM\", svmF1],\n",
    "    [\"Decision Tree\", decisionTreeF1],\n",
    "    [\"KNN\", knnF1],\n",
    "    [\"Random Forest\", randomForestF1],\n",
    "    [\"XGB\", xgbF1],\n",
    "    [\"MLP\", mlpF1],\n",
    "    [\"QDA\", qdaF1]\n",
    "]"
   ]
  },
  {
   "cell_type": "markdown",
   "metadata": {},
   "source": [
    "#### Sorting the 'f1Scores' list based on the f1Score value"
   ]
  },
  {
   "cell_type": "code",
   "execution_count": 41,
   "metadata": {},
   "outputs": [],
   "source": [
    "f1Scores.sort(key = lambda item: -item[1])"
   ]
  },
  {
   "cell_type": "markdown",
   "metadata": {},
   "source": [
    "#### Converting the list to dictionary"
   ]
  },
  {
   "cell_type": "code",
   "execution_count": 42,
   "metadata": {},
   "outputs": [],
   "source": [
    "f1Scores = dict(f1Scores)"
   ]
  },
  {
   "cell_type": "markdown",
   "metadata": {},
   "source": [
    "#### Splitting the keys and values from the dictionary"
   ]
  },
  {
   "cell_type": "code",
   "execution_count": 43,
   "metadata": {},
   "outputs": [],
   "source": [
    "algoName = f1Scores.keys()\n",
    "algoF1 = f1Scores.values()"
   ]
  },
  {
   "cell_type": "markdown",
   "metadata": {},
   "source": [
    "#### Visualization"
   ]
  },
  {
   "cell_type": "code",
   "execution_count": 44,
   "metadata": {
    "colab": {
     "base_uri": "https://localhost:8080/",
     "height": 350
    },
    "executionInfo": {
     "elapsed": 744,
     "status": "ok",
     "timestamp": 1661447319250,
     "user": {
      "displayName": "AVINASH M",
      "userId": "16004639547808340759"
     },
     "user_tz": -330
    },
    "id": "V-M1PzPfpF7q",
    "outputId": "0c1cf383-e0f7-4f0a-d8c8-8c84e0652794",
    "scrolled": true
   },
   "outputs": [
    {
     "data": {
      "image/png": "[encoded data removed]",
      "text/plain": [
       "<Figure size 720x360 with 1 Axes>"
      ]
     },
     "metadata": {
      "needs_background": "light"
     },
     "output_type": "display_data"
    }
   ],
   "source": [
    "fig = plt.figure(figsize = (10, 5))\n",
    "\n",
    "plt.bar(algoName, algoF1, color = \"green\", width = 0.3)\n",
    "\n",
    "plt.xlabel(\"Algorithm Name\")\n",
    "plt.ylabel(\"F1 Score\")\n",
    "plt.title(\"Comparison of F1 Score\")\n",
    "plt.show()"
   ]
  },
  {
   "cell_type": "markdown",
   "metadata": {},
   "source": [
    "From the above comparison of the F1 Scores of various algorithms, it is clear that the \"Random Forest\" algorithm performs the best for the dataset.\n",
    "Hence, we select the \"Random Forest\" model for the prediction."
   ]
  },
  {
   "cell_type": "markdown",
   "metadata": {},
   "source": [
    "## Saving the model"
   ]
  },
  {
   "cell_type": "code",
   "execution_count": 45,
   "metadata": {},
   "outputs": [
    {
     "data": {
      "text/plain": [
       "RandomForestClassifier()"
      ]
     },
     "execution_count": 45,
     "metadata": {},
     "output_type": "execute_result"
    }
   ],
   "source": [
    "randomForestClassifier = RandomForestClassifier()\n",
    "randomForestClassifier.fit(featuresTraining, labelsTraining)"
   ]
  },
  {
   "cell_type": "code",
   "execution_count": 46,
   "metadata": {},
   "outputs": [],
   "source": [
    "pickle.dump(randomForestClassifier, open('model.pkl', 'wb'))"
   ]
  }
 ],
 "metadata": {
  "colab": {
   "authorship_tag": "ABX9TyNRkl5PEUXkufNggcgs+ZWm",
   "collapsed_sections": [],
   "mount_file_id": "15-SGI1tcEKkotNtIg5Cg27GsjQ1vBGpH",
   "name": "Web Phishing Detection.ipynb",
   "provenance": []
  },
  "kernelspec": {
   "display_name": "Python 3 (ipykernel)",
   "language": "python",
   "name": "python3"
  },
  "language_info": {
   "codemirror_mode": {
    "name": "ipython",
    "version": 3
   },
   "file_extension": ".py",
   "mimetype": "text/x-python",
   "name": "python",
   "nbconvert_exporter": "python",
   "pygments_lexer": "ipython3",
   "version": "3.9.12"
  }
 },
 "nbformat": 4,
 "nbformat_minor": 1
}
